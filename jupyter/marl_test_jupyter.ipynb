{
 "cells": [
  {
   "cell_type": "code",
   "execution_count": 5,
   "metadata": {
    "collapsed": true
   },
   "outputs": [
    {
     "name": "stdout",
     "output_type": "stream",
     "text": [
      "Looking in indexes: http://mirrors.tencentyun.com/pypi/simple\r\n",
      "Requirement already satisfied: pybullet in /home/ubuntu/marlpyenv/lib/python3.6/site-packages (2.7.9)\r\n",
      "Looking in indexes: http://mirrors.tencentyun.com/pypi/simple\r\n",
      "Requirement already satisfied: gym in /home/ubuntu/marlpyenv/lib/python3.6/site-packages (0.15.4)\r\n",
      "Requirement already satisfied: numpy>=1.10.4 in /home/ubuntu/marlpyenv/lib/python3.6/site-packages (from gym) (1.18.4)\r\n",
      "Requirement already satisfied: scipy in /home/ubuntu/marlpyenv/lib/python3.6/site-packages (from gym) (1.4.1)\r\n",
      "Requirement already satisfied: opencv-python in /home/ubuntu/marlpyenv/lib/python3.6/site-packages/opencv_python-4.2.0.34-py3.6-linux-x86_64.egg (from gym) (4.2.0.34)\r\n",
      "Requirement already satisfied: pyglet<=1.3.2,>=1.2.0 in /home/ubuntu/marlpyenv/lib/python3.6/site-packages (from gym) (1.3.2)\r\n",
      "Requirement already satisfied: six in /home/ubuntu/marlpyenv/lib/python3.6/site-packages (from gym) (1.15.0)\r\n",
      "Requirement already satisfied: cloudpickle~=1.2.0 in /home/ubuntu/marlpyenv/lib/python3.6/site-packages (from gym) (1.2.2)\r\n",
      "Requirement already satisfied: future in /home/ubuntu/marlpyenv/lib/python3.6/site-packages (from pyglet<=1.3.2,>=1.2.0->gym) (0.18.2)\r\n",
      "Looking in indexes: http://mirrors.tencentyun.com/pypi/simple\r\n",
      "Requirement already satisfied: tensorflow==1.14 in /home/ubuntu/marlpyenv/lib/python3.6/site-packages (1.14.0)\r\n",
      "Requirement already satisfied: google-pasta>=0.1.6 in /home/ubuntu/marlpyenv/lib/python3.6/site-packages (from tensorflow==1.14) (0.2.0)\r\n",
      "Requirement already satisfied: numpy<2.0,>=1.14.5 in /home/ubuntu/marlpyenv/lib/python3.6/site-packages (from tensorflow==1.14) (1.18.4)\r\n",
      "Requirement already satisfied: termcolor>=1.1.0 in /home/ubuntu/marlpyenv/lib/python3.6/site-packages (from tensorflow==1.14) (1.1.0)\r\n",
      "Requirement already satisfied: astor>=0.6.0 in /home/ubuntu/marlpyenv/lib/python3.6/site-packages (from tensorflow==1.14) (0.8.1)\r\n",
      "Requirement already satisfied: gast>=0.2.0 in /home/ubuntu/marlpyenv/lib/python3.6/site-packages (from tensorflow==1.14) (0.3.3)\r\n",
      "Requirement already satisfied: absl-py>=0.7.0 in /home/ubuntu/marlpyenv/lib/python3.6/site-packages (from tensorflow==1.14) (0.9.0)\r\n",
      "Requirement already satisfied: wheel>=0.26 in /home/ubuntu/marlpyenv/lib/python3.6/site-packages (from tensorflow==1.14) (0.34.2)\r\n",
      "Requirement already satisfied: six>=1.10.0 in /home/ubuntu/marlpyenv/lib/python3.6/site-packages (from tensorflow==1.14) (1.15.0)\r\n",
      "Requirement already satisfied: tensorflow-estimator<1.15.0rc0,>=1.14.0rc0 in /home/ubuntu/marlpyenv/lib/python3.6/site-packages (from tensorflow==1.14) (1.14.0)\r\n",
      "Requirement already satisfied: keras-preprocessing>=1.0.5 in /home/ubuntu/marlpyenv/lib/python3.6/site-packages (from tensorflow==1.14) (1.1.2)\r\n",
      "Requirement already satisfied: keras-applications>=1.0.6 in /home/ubuntu/marlpyenv/lib/python3.6/site-packages (from tensorflow==1.14) (1.0.8)\r\n",
      "Requirement already satisfied: protobuf>=3.6.1 in /home/ubuntu/marlpyenv/lib/python3.6/site-packages (from tensorflow==1.14) (3.12.1)\r\n",
      "Requirement already satisfied: wrapt>=1.11.1 in /home/ubuntu/marlpyenv/lib/python3.6/site-packages (from tensorflow==1.14) (1.12.1)\r\n",
      "Requirement already satisfied: grpcio>=1.8.6 in /home/ubuntu/marlpyenv/lib/python3.6/site-packages (from tensorflow==1.14) (1.29.0)\r\n",
      "Requirement already satisfied: tensorboard<1.15.0,>=1.14.0 in /home/ubuntu/marlpyenv/lib/python3.6/site-packages (from tensorflow==1.14) (1.14.0)\r\n",
      "Requirement already satisfied: h5py in /home/ubuntu/marlpyenv/lib/python3.6/site-packages (from keras-applications>=1.0.6->tensorflow==1.14) (2.10.0)\r\n",
      "Requirement already satisfied: setuptools in /home/ubuntu/marlpyenv/lib/python3.6/site-packages (from protobuf>=3.6.1->tensorflow==1.14) (46.4.0)\r\n",
      "Requirement already satisfied: markdown>=2.6.8 in /home/ubuntu/marlpyenv/lib/python3.6/site-packages (from tensorboard<1.15.0,>=1.14.0->tensorflow==1.14) (3.2.2)\r\n",
      "Requirement already satisfied: werkzeug>=0.11.15 in /home/ubuntu/marlpyenv/lib/python3.6/site-packages (from tensorboard<1.15.0,>=1.14.0->tensorflow==1.14) (1.0.1)\r\n",
      "Requirement already satisfied: importlib-metadata; python_version < \"3.8\" in /home/ubuntu/marlpyenv/lib/python3.6/site-packages (from markdown>=2.6.8->tensorboard<1.15.0,>=1.14.0->tensorflow==1.14) (1.6.0)\r\n",
      "Requirement already satisfied: zipp>=0.5 in /home/ubuntu/marlpyenv/lib/python3.6/site-packages (from importlib-metadata; python_version < \"3.8\"->markdown>=2.6.8->tensorboard<1.15.0,>=1.14.0->tensorflow==1.14) (3.1.0)\r\n"
     ]
    }
   ],
   "source": [
    "!pip install pybullet\n",
    "!pip install gym\n",
    "!pip install tensorflow==1.14"
   ]
  },
  {
   "cell_type": "code",
   "execution_count": 5,
   "outputs": [
    {
     "name": "stdout",
     "output_type": "stream",
     "text": [
      "Cloning into 'maddpg'...\r\n",
      "remote: Enumerating objects: 4, done.\u001B[K\r\n",
      "remote: Counting objects: 100% (4/4), done.\u001B[K\r\n",
      "remote: Compressing objects: 100% (4/4), done.\u001B[K\r\n",
      "remote: Total 88 (delta 0), reused 0 (delta 0), pack-reused 84\u001B[K\r\n",
      "Unpacking objects: 100% (88/88), done.\r\n"
     ]
    }
   ],
   "source": [
    "!git clone https://github.com/openai/maddpg.git"
   ],
   "metadata": {
    "collapsed": false,
    "pycharm": {
     "name": "#%%\n"
    }
   }
  },
  {
   "cell_type": "code",
   "execution_count": 6,
   "outputs": [
    {
     "name": "stdout",
     "output_type": "stream",
     "text": [
      "Cloning into 'multiagent-particle-envs'...\r\n",
      "remote: Enumerating objects: 235, done.\u001B[K\r\n",
      "remote: Counting objects: 100% (235/235), done.\u001B[K\r\n",
      "remote: Compressing objects: 100% (100/100), done.\u001B[K\r\n",
      "remote: Total 235 (delta 130), reused 235 (delta 130), pack-reused 0\u001B[K\r\n",
      "Receiving objects: 100% (235/235), 100.24 KiB | 18.00 KiB/s, done.\r\n",
      "Resolving deltas: 100% (130/130), done.\r\n"
     ]
    }
   ],
   "source": [
    "!git clone https://github.com/LXYYY/multiagent-particle-envs.git"
   ],
   "metadata": {
    "collapsed": false,
    "pycharm": {
     "name": "#%%\n"
    }
   }
  },
  {
   "cell_type": "code",
   "execution_count": 7,
   "outputs": [
    {
     "name": "stdout",
     "output_type": "stream",
     "text": [
      "Cloning into 'marl_formation'...\r\n",
      "remote: Enumerating objects: 333, done.\u001B[K\r\n",
      "remote: Counting objects: 100% (333/333), done.\u001B[K\r\n",
      "remote: Compressing objects: 100% (184/184), done.\u001B[K\r\n",
      "remote: Total 333 (delta 186), reused 289 (delta 142), pack-reused 0\u001B[K\r\n",
      "Receiving objects: 100% (333/333), 73.13 KiB | 12.00 KiB/s, done.\r\n",
      "Resolving deltas: 100% (186/186), done.\r\n"
     ]
    }
   ],
   "source": [
    "!git clone https://github.com/LXYYY/marl_formation.git"
   ],
   "metadata": {
    "collapsed": false,
    "pycharm": {
     "name": "#%%\n"
    }
   }
  },
  {
   "cell_type": "code",
   "execution_count": 8,
   "outputs": [
    {
     "name": "stdout",
     "output_type": "stream",
     "text": [
      "Looking in indexes: http://mirrors.tencentyun.com/pypi/simple\r\n",
      "Obtaining file:///home/ubuntu/jupyter_projects/maddpg\r\n",
      "Requirement already satisfied: gym in /home/ubuntu/marlpyenv/lib/python3.6/site-packages (from maddpg==0.0.1) (0.15.4)\r\n",
      "Requirement already satisfied: numpy-stl in /home/ubuntu/marlpyenv/lib/python3.6/site-packages (from maddpg==0.0.1) (2.11.2)\r\n",
      "Requirement already satisfied: six in /home/ubuntu/marlpyenv/lib/python3.6/site-packages (from gym->maddpg==0.0.1) (1.15.0)\r\n",
      "Requirement already satisfied: scipy in /home/ubuntu/marlpyenv/lib/python3.6/site-packages (from gym->maddpg==0.0.1) (1.4.1)\r\n",
      "Requirement already satisfied: opencv-python in /home/ubuntu/marlpyenv/lib/python3.6/site-packages/opencv_python-4.2.0.34-py3.6-linux-x86_64.egg (from gym->maddpg==0.0.1) (4.2.0.34)\r\n",
      "Requirement already satisfied: pyglet<=1.3.2,>=1.2.0 in /home/ubuntu/marlpyenv/lib/python3.6/site-packages (from gym->maddpg==0.0.1) (1.3.2)\r\n",
      "Requirement already satisfied: cloudpickle~=1.2.0 in /home/ubuntu/marlpyenv/lib/python3.6/site-packages (from gym->maddpg==0.0.1) (1.2.2)\r\n",
      "Requirement already satisfied: numpy>=1.10.4 in /home/ubuntu/marlpyenv/lib/python3.6/site-packages (from gym->maddpg==0.0.1) (1.18.4)\r\n",
      "Requirement already satisfied: python-utils>=1.6.2 in /home/ubuntu/marlpyenv/lib/python3.6/site-packages (from numpy-stl->maddpg==0.0.1) (2.4.0)\r\n",
      "Requirement already satisfied: future in /home/ubuntu/marlpyenv/lib/python3.6/site-packages (from pyglet<=1.3.2,>=1.2.0->gym->maddpg==0.0.1) (0.18.2)\r\n",
      "Installing collected packages: maddpg\r\n",
      "  Attempting uninstall: maddpg\r\n",
      "    Found existing installation: maddpg 0.0.1\r\n",
      "    Uninstalling maddpg-0.0.1:\r\n",
      "      Successfully uninstalled maddpg-0.0.1\r\n",
      "  Running setup.py develop for maddpg\r\n",
      "Successfully installed maddpg\r\n"
     ]
    }
   ],
   "source": [
    "!pip install -e maddpg"
   ],
   "metadata": {
    "collapsed": false,
    "pycharm": {
     "name": "#%%\n"
    }
   }
  },
  {
   "cell_type": "code",
   "execution_count": 9,
   "outputs": [
    {
     "name": "stdout",
     "output_type": "stream",
     "text": [
      "Looking in indexes: http://mirrors.tencentyun.com/pypi/simple\r\n",
      "Obtaining file:///home/ubuntu/jupyter_projects/multiagent-particle-envs\r\n",
      "Requirement already satisfied: gym in /home/ubuntu/marlpyenv/lib/python3.6/site-packages (from multiagent==0.0.1) (0.15.4)\r\n",
      "Requirement already satisfied: numpy-stl in /home/ubuntu/marlpyenv/lib/python3.6/site-packages (from multiagent==0.0.1) (2.11.2)\r\n",
      "Requirement already satisfied: opencv-python in /home/ubuntu/marlpyenv/lib/python3.6/site-packages/opencv_python-4.2.0.34-py3.6-linux-x86_64.egg (from gym->multiagent==0.0.1) (4.2.0.34)\r\n",
      "Requirement already satisfied: numpy>=1.10.4 in /home/ubuntu/marlpyenv/lib/python3.6/site-packages (from gym->multiagent==0.0.1) (1.18.4)\r\n",
      "Requirement already satisfied: scipy in /home/ubuntu/marlpyenv/lib/python3.6/site-packages (from gym->multiagent==0.0.1) (1.4.1)\r\n",
      "Requirement already satisfied: cloudpickle~=1.2.0 in /home/ubuntu/marlpyenv/lib/python3.6/site-packages (from gym->multiagent==0.0.1) (1.2.2)\r\n",
      "Requirement already satisfied: pyglet<=1.3.2,>=1.2.0 in /home/ubuntu/marlpyenv/lib/python3.6/site-packages (from gym->multiagent==0.0.1) (1.3.2)\r\n",
      "Requirement already satisfied: six in /home/ubuntu/marlpyenv/lib/python3.6/site-packages (from gym->multiagent==0.0.1) (1.15.0)\r\n",
      "Requirement already satisfied: python-utils>=1.6.2 in /home/ubuntu/marlpyenv/lib/python3.6/site-packages (from numpy-stl->multiagent==0.0.1) (2.4.0)\r\n",
      "Requirement already satisfied: future in /home/ubuntu/marlpyenv/lib/python3.6/site-packages (from pyglet<=1.3.2,>=1.2.0->gym->multiagent==0.0.1) (0.18.2)\r\n",
      "Installing collected packages: multiagent\r\n",
      "  Running setup.py develop for multiagent\r\n",
      "Successfully installed multiagent\r\n"
     ]
    }
   ],
   "source": [
    "!pip install -e multiagent-particle-envs"
   ],
   "metadata": {
    "collapsed": false,
    "pycharm": {
     "name": "#%%\n"
    }
   }
  },
  {
   "cell_type": "code",
   "execution_count": null,
   "outputs": [
    {
     "name": "stdout",
     "output_type": "stream",
     "text": [
      "Cloning into 'baselines'...\r\n",
      "remote: Enumerating objects: 3627, done.\u001B[K\r\n",
      "Receiving objects:  23% (862/3627), 644.01 KiB | 9.00 KiB/s   \r"
     ]
    }
   ],
   "source": [
    "!git clone https://github.com/LXYYY/baselines.git"
   ],
   "metadata": {
    "collapsed": false,
    "pycharm": {
     "name": "#%%\n",
     "is_executing": true
    }
   }
  },
  {
   "cell_type": "code",
   "execution_count": null,
   "outputs": [],
   "source": [
    "\n"
   ],
   "metadata": {
    "collapsed": false,
    "pycharm": {
     "name": "#%%\n"
    }
   }
  }
 ],
 "metadata": {
  "kernelspec": {
   "display_name": "Python 3",
   "language": "python",
   "name": "python3"
  },
  "language_info": {
   "codemirror_mode": {
    "name": "ipython",
    "version": 2
   },
   "file_extension": ".py",
   "mimetype": "text/x-python",
   "name": "python",
   "nbconvert_exporter": "python",
   "pygments_lexer": "ipython2",
   "version": "2.7.6"
  }
 },
 "nbformat": 4,
 "nbformat_minor": 0
}